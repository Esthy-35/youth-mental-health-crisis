{
 "cells": [
  {
   "cell_type": "markdown",
   "id": "5d2a1bd3",
   "metadata": {},
   "source": [
    "# Youth Mental Health Analysis"
   ]
  },
  {
   "cell_type": "code",
   "execution_count": null,
   "id": "c0cf8b20",
   "metadata": {},
   "outputs": [],
   "source": [
    "import pandas as pd\n",
    "import matplotlib.pyplot as plt\n",
    "import seaborn as sns\n",
    "\n",
    "df = pd.read_csv('../data/youth_mental_health_data.csv')\n",
    "df.head()"
   ]
  },
  {
   "cell_type": "code",
   "execution_count": null,
   "id": "3946c819",
   "metadata": {},
   "outputs": [],
   "source": [
    "df.describe()"
   ]
  },
  {
   "cell_type": "code",
   "execution_count": null,
   "id": "cd70986c",
   "metadata": {},
   "outputs": [],
   "source": [
    "# Bar plot of suicide rate\n",
    "plt.figure(figsize=(8,5))\n",
    "sns.barplot(data=df, x='country', y='suicide_rate_15_24')\n",
    "plt.title('Youth Suicide Rate by Country')\n",
    "plt.xticks(rotation=45)\n",
    "plt.tight_layout()\n",
    "plt.show()"
   ]
  },
  {
   "cell_type": "code",
   "execution_count": null,
   "id": "806381bf",
   "metadata": {},
   "outputs": [],
   "source": [
    "# Scatter plot of depression vs anxiety\n",
    "plt.figure(figsize=(8,5))\n",
    "sns.scatterplot(data=df, x='depression_rate_15_24', y='anxiety_rate_15_24', hue='country', s=100)\n",
    "plt.title('Depression vs Anxiety Rates')\n",
    "plt.tight_layout()\n",
    "plt.show()"
   ]
  },
  {
   "cell_type": "markdown",
   "id": "608c053f",
   "metadata": {},
   "source": [
    "## Conclusion\n",
    "This data reveals the urgent need for better support systems for young people around the world."
   ]
  }
 ],
 "metadata": {},
 "nbformat": 4,
 "nbformat_minor": 5
}
